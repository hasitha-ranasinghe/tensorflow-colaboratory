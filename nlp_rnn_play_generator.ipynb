{
  "nbformat": 4,
  "nbformat_minor": 0,
  "metadata": {
    "colab": {
      "name": "nlp-rnn-play-generator.ipynb",
      "provenance": [],
      "authorship_tag": "ABX9TyNEW8LxJ2ol58OtyGBzHt9U",
      "include_colab_link": true
    },
    "kernelspec": {
      "name": "python3",
      "display_name": "Python 3"
    },
    "language_info": {
      "name": "python"
    },
    "accelerator": "GPU"
  },
  "cells": [
    {
      "cell_type": "markdown",
      "metadata": {
        "id": "view-in-github",
        "colab_type": "text"
      },
      "source": [
        "<a href=\"https://colab.research.google.com/github/hasitha-ranasinghe/tensorflow-colaboratory/blob/main/nlp_rnn_play_generator.ipynb\" target=\"_parent\"><img src=\"https://colab.research.google.com/assets/colab-badge.svg\" alt=\"Open In Colab\"/></a>"
      ]
    },
    {
      "cell_type": "code",
      "execution_count": 1,
      "metadata": {
        "id": "vuvh2avgJv_Y"
      },
      "outputs": [],
      "source": [
        "from keras.preprocessing import sequence\n",
        "import keras\n",
        "import tensorflow as tf\n",
        "import os\n",
        "import numpy as np"
      ]
    },
    {
      "cell_type": "code",
      "source": [
        "path_to_file = tf.keras.utils.get_file('shakespeare.txt', 'https://storage.googleapis.com/download.tensorflow.org/data/shakespeare.txt')"
      ],
      "metadata": {
        "id": "4k83zoaIJ2Zw"
      },
      "execution_count": 2,
      "outputs": []
    },
    {
      "cell_type": "code",
      "source": [
        "# To select your own file\n",
        "from google.colab import files\n",
        "path_to_file = list(files.upload().keys())[0]"
      ],
      "metadata": {
        "id": "UWjqom-UKCac"
      },
      "execution_count": null,
      "outputs": []
    },
    {
      "cell_type": "code",
      "source": [
        "# Read, then decode for py2 compat.\n",
        "text = open(path_to_file, 'rb').read().decode(encoding='utf-8')\n",
        "# length of text is the number of characters in it\n",
        "print ('Length of text: {} characters'.format(len(text)))"
      ],
      "metadata": {
        "colab": {
          "base_uri": "https://localhost:8080/"
        },
        "id": "1LLLsviLKIEE",
        "outputId": "b812236f-400f-43c2-b001-7a8caf1e0d75"
      },
      "execution_count": 5,
      "outputs": [
        {
          "output_type": "stream",
          "name": "stdout",
          "text": [
            "Length of text: 1115394 characters\n"
          ]
        }
      ]
    },
    {
      "cell_type": "code",
      "source": [
        "# Take a look at the first 250 characters in text\n",
        "print(text[:250])"
      ],
      "metadata": {
        "colab": {
          "base_uri": "https://localhost:8080/"
        },
        "id": "aRZhZd5kKiWd",
        "outputId": "3481fdc9-6724-47c6-9dfe-b228f888d8e4"
      },
      "execution_count": 6,
      "outputs": [
        {
          "output_type": "stream",
          "name": "stdout",
          "text": [
            "First Citizen:\n",
            "Before we proceed any further, hear me speak.\n",
            "\n",
            "All:\n",
            "Speak, speak.\n",
            "\n",
            "First Citizen:\n",
            "You are all resolved rather to die than to famish?\n",
            "\n",
            "All:\n",
            "Resolved. resolved.\n",
            "\n",
            "First Citizen:\n",
            "First, you know Caius Marcius is chief enemy to the people.\n",
            "\n"
          ]
        }
      ]
    },
    {
      "cell_type": "code",
      "source": [
        "vocab = sorted(set(text))\n",
        "# Creating a mapping from unique characters to indices\n",
        "char2idx = {u:i for i, u in enumerate(vocab)}\n",
        "idx2char = np.array(vocab)\n",
        "\n",
        "def text_to_int(text):\n",
        "  return np.array([char2idx[c] for c in text])\n",
        "\n",
        "text_as_int = text_to_int(text)"
      ],
      "metadata": {
        "id": "89BjczksKlSG"
      },
      "execution_count": 7,
      "outputs": []
    },
    {
      "cell_type": "code",
      "source": [
        "# lets look at how part of our text is encoded\n",
        "print(\"Text:\", text[:13])\n",
        "print(\"Encoded:\", text_to_int(text[:13]))"
      ],
      "metadata": {
        "colab": {
          "base_uri": "https://localhost:8080/"
        },
        "id": "yEQ4mtaJKted",
        "outputId": "592736de-9c43-48ac-9882-bbe081fda725"
      },
      "execution_count": 8,
      "outputs": [
        {
          "output_type": "stream",
          "name": "stdout",
          "text": [
            "Text: First Citizen\n",
            "Encoded: [18 47 56 57 58  1 15 47 58 47 64 43 52]\n"
          ]
        }
      ]
    },
    {
      "cell_type": "code",
      "source": [
        "def int_to_text(ints):\n",
        "  try:\n",
        "    ints = ints.numpy()\n",
        "  except:\n",
        "    pass\n",
        "  return ''.join(idx2char[ints])\n",
        "\n",
        "print(int_to_text(text_as_int[:13]))"
      ],
      "metadata": {
        "colab": {
          "base_uri": "https://localhost:8080/"
        },
        "id": "3KHUQjD8Kt2q",
        "outputId": "126a7186-25af-4c64-da74-a578d1708645"
      },
      "execution_count": 9,
      "outputs": [
        {
          "output_type": "stream",
          "name": "stdout",
          "text": [
            "First Citizen\n"
          ]
        }
      ]
    },
    {
      "cell_type": "code",
      "source": [
        "seq_length = 100  # length of sequence for a training example\n",
        "examples_per_epoch = len(text)//(seq_length+1)\n",
        "\n",
        "# Create training examples / targets\n",
        "char_dataset = tf.data.Dataset.from_tensor_slices(text_as_int)"
      ],
      "metadata": {
        "id": "oojg8eg_LVrf"
      },
      "execution_count": 10,
      "outputs": []
    },
    {
      "cell_type": "code",
      "source": [
        "sequences = char_dataset.batch(seq_length+1, drop_remainder=True)"
      ],
      "metadata": {
        "id": "DR3WYboFL8mL"
      },
      "execution_count": 11,
      "outputs": []
    },
    {
      "cell_type": "code",
      "source": [
        "def split_input_target(chunk):  # for the example: hello\n",
        "    input_text = chunk[:-1]  # hell\n",
        "    target_text = chunk[1:]  # ello\n",
        "    return input_text, target_text  # hell, ello\n",
        "\n",
        "dataset = sequences.map(split_input_target)  # we use map to apply the above function to every entry"
      ],
      "metadata": {
        "id": "Y1jJOxELL_Wz"
      },
      "execution_count": 12,
      "outputs": []
    },
    {
      "cell_type": "code",
      "source": [
        "for x, y in dataset.take(2):\n",
        "  print(\"\\n\\nEXAMPLE\\n\")\n",
        "  print(\"INPUT\")\n",
        "  print(int_to_text(x))\n",
        "  print(\"\\nOUTPUT\")\n",
        "  print(int_to_text(y))"
      ],
      "metadata": {
        "colab": {
          "base_uri": "https://localhost:8080/"
        },
        "id": "DWjWgAGFMA-x",
        "outputId": "cb626812-1249-43ff-8e8c-05306ce68cec"
      },
      "execution_count": 13,
      "outputs": [
        {
          "output_type": "stream",
          "name": "stdout",
          "text": [
            "\n",
            "\n",
            "EXAMPLE\n",
            "\n",
            "INPUT\n",
            "First Citizen:\n",
            "Before we proceed any further, hear me speak.\n",
            "\n",
            "All:\n",
            "Speak, speak.\n",
            "\n",
            "First Citizen:\n",
            "You\n",
            "\n",
            "OUTPUT\n",
            "irst Citizen:\n",
            "Before we proceed any further, hear me speak.\n",
            "\n",
            "All:\n",
            "Speak, speak.\n",
            "\n",
            "First Citizen:\n",
            "You \n",
            "\n",
            "\n",
            "EXAMPLE\n",
            "\n",
            "INPUT\n",
            "are all resolved rather to die than to famish?\n",
            "\n",
            "All:\n",
            "Resolved. resolved.\n",
            "\n",
            "First Citizen:\n",
            "First, you \n",
            "\n",
            "OUTPUT\n",
            "re all resolved rather to die than to famish?\n",
            "\n",
            "All:\n",
            "Resolved. resolved.\n",
            "\n",
            "First Citizen:\n",
            "First, you k\n"
          ]
        }
      ]
    },
    {
      "cell_type": "code",
      "source": [
        "BATCH_SIZE = 64\n",
        "VOCAB_SIZE = len(vocab)  # vocab is number of unique characters\n",
        "EMBEDDING_DIM = 256\n",
        "RNN_UNITS = 1024\n",
        "\n",
        "# Buffer size to shuffle the dataset\n",
        "# (TF data is designed to work with possibly infinite sequences,\n",
        "# so it doesn't attempt to shuffle the entire sequence in memory. Instead,\n",
        "# it maintains a buffer in which it shuffles elements).\n",
        "BUFFER_SIZE = 10000\n",
        "\n",
        "data = dataset.shuffle(BUFFER_SIZE).batch(BATCH_SIZE, drop_remainder=True)"
      ],
      "metadata": {
        "id": "Amm-B42FMD2Q"
      },
      "execution_count": 14,
      "outputs": []
    },
    {
      "cell_type": "code",
      "source": [
        "def build_model(vocab_size, embedding_dim, rnn_units, batch_size):\n",
        "  model = tf.keras.Sequential([\n",
        "    tf.keras.layers.Embedding(vocab_size, embedding_dim,\n",
        "                              batch_input_shape=[batch_size, None]),\n",
        "    tf.keras.layers.LSTM(rnn_units,\n",
        "                        return_sequences=True,\n",
        "                        stateful=True,\n",
        "                        recurrent_initializer='glorot_uniform'),\n",
        "    tf.keras.layers.Dense(vocab_size)\n",
        "  ])\n",
        "  return model\n",
        "\n",
        "model = build_model(VOCAB_SIZE,EMBEDDING_DIM, RNN_UNITS, BATCH_SIZE)\n",
        "model.summary()"
      ],
      "metadata": {
        "colab": {
          "base_uri": "https://localhost:8080/"
        },
        "id": "S16GPlKjMkfj",
        "outputId": "9d1952bf-ed61-4ad6-8aa6-feb6854e7371"
      },
      "execution_count": 15,
      "outputs": [
        {
          "output_type": "stream",
          "name": "stdout",
          "text": [
            "Model: \"sequential\"\n",
            "_________________________________________________________________\n",
            " Layer (type)                Output Shape              Param #   \n",
            "=================================================================\n",
            " embedding (Embedding)       (64, None, 256)           16640     \n",
            "                                                                 \n",
            " lstm (LSTM)                 (64, None, 1024)          5246976   \n",
            "                                                                 \n",
            " dense (Dense)               (64, None, 65)            66625     \n",
            "                                                                 \n",
            "=================================================================\n",
            "Total params: 5,330,241\n",
            "Trainable params: 5,330,241\n",
            "Non-trainable params: 0\n",
            "_________________________________________________________________\n"
          ]
        }
      ]
    },
    {
      "cell_type": "code",
      "source": [
        "for input_example_batch, target_example_batch in data.take(1):\n",
        "  example_batch_predictions = model(input_example_batch)  # ask our model for a prediction on our first batch of training data (64 entries)\n",
        "  print(example_batch_predictions.shape, \"# (batch_size, sequence_length, vocab_size)\")  # print out the output shape"
      ],
      "metadata": {
        "colab": {
          "base_uri": "https://localhost:8080/"
        },
        "id": "eOn9ertpNFgo",
        "outputId": "b3758a01-f51e-4174-bc2c-968b24391cfc"
      },
      "execution_count": 16,
      "outputs": [
        {
          "output_type": "stream",
          "name": "stdout",
          "text": [
            "(64, 100, 65) # (batch_size, sequence_length, vocab_size)\n"
          ]
        }
      ]
    },
    {
      "cell_type": "code",
      "source": [
        "# we can see that the predicition is an array of 64 arrays, one for each entry in the batch\n",
        "print(len(example_batch_predictions))\n",
        "print(example_batch_predictions)"
      ],
      "metadata": {
        "colab": {
          "base_uri": "https://localhost:8080/"
        },
        "id": "S4Fd7Gi2OQKC",
        "outputId": "873266b2-d5e9-45a8-8e51-b96e5d216e9d"
      },
      "execution_count": 17,
      "outputs": [
        {
          "output_type": "stream",
          "name": "stdout",
          "text": [
            "64\n",
            "tf.Tensor(\n",
            "[[[ 2.36994340e-04  1.55325083e-03 -7.75750866e-03 ...  6.22268417e-04\n",
            "    1.05456272e-02  5.27220080e-04]\n",
            "  [ 7.36984564e-03  1.49009028e-03 -2.55493377e-03 ...  4.35155496e-04\n",
            "    3.29645304e-03 -1.09194801e-03]\n",
            "  [ 1.19855227e-02 -2.87497882e-03  1.85470027e-03 ... -6.77585881e-03\n",
            "    2.24516168e-03  5.65213570e-03]\n",
            "  ...\n",
            "  [ 3.18386033e-03 -6.27589505e-03 -1.81069027e-03 ... -9.11282003e-03\n",
            "   -4.03339509e-03 -3.37915902e-04]\n",
            "  [-1.41813257e-03 -2.44113128e-03 -2.02966708e-04 ... -8.59972183e-03\n",
            "   -3.41655314e-03 -4.80640447e-03]\n",
            "  [-4.54862369e-03 -5.53523190e-03 -4.63758223e-03 ... -9.88623872e-03\n",
            "   -2.79618660e-03 -4.09486331e-03]]\n",
            "\n",
            " [[ 6.95683574e-03 -3.03754350e-03 -7.59510184e-03 ... -2.49892729e-03\n",
            "    3.26617085e-03 -2.76309147e-04]\n",
            "  [ 6.11911761e-03 -6.01018197e-04 -1.31417327e-02 ... -1.08024711e-03\n",
            "    1.14360424e-02  8.84907378e-04]\n",
            "  [-8.52478319e-04  1.63406949e-03 -1.08720614e-02 ... -4.69853636e-03\n",
            "    6.18849602e-03 -3.24552436e-03]\n",
            "  ...\n",
            "  [ 1.28168352e-02 -2.17557186e-03 -7.60834944e-03 ... -8.50812253e-03\n",
            "    3.82073852e-03  3.24449065e-04]\n",
            "  [ 1.67430937e-02 -4.14197473e-03 -1.34313246e-02 ... -1.03327921e-02\n",
            "    4.38302336e-03 -9.58641875e-04]\n",
            "  [ 1.37534244e-02 -1.28700444e-03 -1.73073225e-02 ... -8.07519257e-03\n",
            "    1.08511355e-02 -2.87917734e-04]]\n",
            "\n",
            " [[ 5.64418361e-03 -2.50536925e-03 -5.38700726e-03 ...  3.76167533e-04\n",
            "    1.44030666e-03  6.22619921e-03]\n",
            "  [ 8.08613934e-03 -1.35610602e-03 -5.03549259e-03 ...  1.91413076e-03\n",
            "    7.48275127e-03  3.68624297e-03]\n",
            "  [ 1.03030289e-02 -2.51459354e-03 -3.53039871e-03 ... -2.36893538e-03\n",
            "    4.84764297e-03  5.17616631e-04]\n",
            "  ...\n",
            "  [ 5.78622450e-04 -8.35312158e-03 -2.63612019e-03 ...  1.10358931e-03\n",
            "    5.96784987e-03 -1.00585967e-02]\n",
            "  [ 7.65037432e-04 -4.37994581e-03 -9.00827907e-03 ...  5.03602263e-04\n",
            "    1.37588782e-02 -7.02878553e-03]\n",
            "  [-1.95657881e-03  1.20046304e-03 -9.54355951e-03 ... -4.38591652e-03\n",
            "    4.14195284e-03 -2.64694239e-03]]\n",
            "\n",
            " ...\n",
            "\n",
            " [[ 4.41113161e-03 -2.31330167e-03  1.02828338e-03 ... -2.86589959e-03\n",
            "   -8.13891005e-04 -1.83784380e-03]\n",
            "  [ 3.57186329e-03  8.36730542e-05 -6.77151047e-03 ... -1.47144136e-03\n",
            "    9.27619264e-03 -1.25655613e-03]\n",
            "  [ 8.38552322e-03 -1.98330660e-03 -1.09289046e-02 ... -1.52443594e-03\n",
            "    7.03093456e-03  4.37550480e-03]\n",
            "  ...\n",
            "  [ 1.64865311e-02 -2.68848985e-03 -1.66915208e-02 ... -1.58521475e-03\n",
            "    5.05518168e-03  3.55981058e-04]\n",
            "  [ 1.73285902e-02 -3.64179304e-03 -1.26104355e-02 ... -5.30403201e-03\n",
            "    1.51943776e-03 -1.96840544e-03]\n",
            "  [ 1.37125598e-02 -6.57492667e-04 -1.75345838e-02 ... -4.21910454e-03\n",
            "    9.79464035e-03 -1.58954447e-03]]\n",
            "\n",
            " [[-7.56676495e-03 -4.98400815e-03 -1.34723436e-03 ...  4.23354562e-03\n",
            "   -2.31522089e-03 -2.25869589e-03]\n",
            "  [-1.18092801e-02 -2.50619976e-03 -1.74652797e-03 ... -3.31555966e-05\n",
            "   -1.89374411e-03 -5.99339558e-03]\n",
            "  [-9.00599454e-03 -1.29416236e-03  9.74411145e-04 ...  1.71240349e-03\n",
            "   -7.47611979e-04 -3.86161101e-03]\n",
            "  ...\n",
            "  [ 7.74458796e-03 -5.75843034e-03 -9.54366196e-03 ... -5.95413148e-03\n",
            "   -9.72241350e-03  7.31428852e-03]\n",
            "  [ 1.01195378e-02 -4.57147462e-03 -9.15660243e-03 ... -3.46480636e-03\n",
            "   -1.21386861e-03  5.41921845e-03]\n",
            "  [ 5.58120478e-03  9.64459614e-04 -1.13446610e-02 ... -7.37634720e-03\n",
            "   -5.13139786e-03  7.60002807e-03]]\n",
            "\n",
            " [[-2.52146670e-03  3.92658543e-03 -2.73376773e-03 ... -3.36024584e-03\n",
            "   -4.09797812e-03  3.15348106e-03]\n",
            "  [-7.77059700e-03  4.06647846e-03 -3.22297961e-03 ... -5.73515985e-03\n",
            "   -3.60238575e-03 -3.66165477e-04]\n",
            "  [-1.22078750e-02 -1.59172295e-03  1.16567221e-03 ... -8.62038229e-03\n",
            "   -9.81629244e-04  3.65897501e-03]\n",
            "  ...\n",
            "  [-4.76677390e-03 -8.94985162e-03 -4.69704904e-03 ... -2.78478046e-03\n",
            "   -5.24400314e-03 -6.79619750e-03]\n",
            "  [-2.57079187e-03 -1.29774585e-02 -4.04563034e-03 ... -5.75606339e-03\n",
            "   -5.63018396e-03 -5.04792854e-03]\n",
            "  [-8.95873830e-03 -1.50303505e-02 -1.10169633e-04 ... -1.04002841e-02\n",
            "   -2.87675695e-03 -1.91367915e-04]]], shape=(64, 100, 65), dtype=float32)\n"
          ]
        }
      ]
    },
    {
      "cell_type": "code",
      "source": [
        "# lets examine one prediction\n",
        "pred = example_batch_predictions[0]\n",
        "print(len(pred))\n",
        "print(pred)\n",
        "# notice this is a 2d array of length 100, where each interior array is the prediction for the next character at each time step"
      ],
      "metadata": {
        "colab": {
          "base_uri": "https://localhost:8080/"
        },
        "id": "BMUaArt5OZv7",
        "outputId": "fcbc90fc-1488-461d-838e-928e42b2e37e"
      },
      "execution_count": 18,
      "outputs": [
        {
          "output_type": "stream",
          "name": "stdout",
          "text": [
            "100\n",
            "tf.Tensor(\n",
            "[[ 0.00023699  0.00155325 -0.00775751 ...  0.00062227  0.01054563\n",
            "   0.00052722]\n",
            " [ 0.00736985  0.00149009 -0.00255493 ...  0.00043516  0.00329645\n",
            "  -0.00109195]\n",
            " [ 0.01198552 -0.00287498  0.0018547  ... -0.00677586  0.00224516\n",
            "   0.00565214]\n",
            " ...\n",
            " [ 0.00318386 -0.0062759  -0.00181069 ... -0.00911282 -0.0040334\n",
            "  -0.00033792]\n",
            " [-0.00141813 -0.00244113 -0.00020297 ... -0.00859972 -0.00341655\n",
            "  -0.0048064 ]\n",
            " [-0.00454862 -0.00553523 -0.00463758 ... -0.00988624 -0.00279619\n",
            "  -0.00409486]], shape=(100, 65), dtype=float32)\n"
          ]
        }
      ]
    },
    {
      "cell_type": "code",
      "source": [
        "# and finally well look at a prediction at the first timestep\n",
        "time_pred = pred[0]\n",
        "print(len(time_pred))\n",
        "print(time_pred)\n",
        "# and of course its 65 values representing the probabillity of each character occuring next"
      ],
      "metadata": {
        "colab": {
          "base_uri": "https://localhost:8080/"
        },
        "id": "bR2Mqd68OtDJ",
        "outputId": "7ef30b72-a163-4ace-b712-bd9598f5c96f"
      },
      "execution_count": 19,
      "outputs": [
        {
          "output_type": "stream",
          "name": "stdout",
          "text": [
            "65\n",
            "tf.Tensor(\n",
            "[ 2.3699434e-04  1.5532508e-03 -7.7575087e-03 -1.0771928e-03\n",
            " -1.8421619e-03  4.4311495e-03  2.9294649e-03 -2.9211715e-03\n",
            "  6.6165296e-05  3.2857866e-03  1.7846539e-03  2.3309176e-03\n",
            "  7.1929446e-03 -2.8733183e-03  1.5713202e-03 -2.2643640e-05\n",
            "  4.7375401e-03  2.8216743e-03 -9.1942167e-03  4.8925676e-03\n",
            " -1.8733254e-03 -6.5270662e-03 -1.3262635e-03  2.7551607e-03\n",
            "  7.1095824e-03 -9.5927408e-03 -3.3423083e-03  1.8025395e-03\n",
            "  4.1487915e-03  1.1993058e-03 -8.2307047e-04 -5.5103991e-03\n",
            " -4.2274185e-03  4.6198005e-03 -6.7168911e-04 -3.0754639e-03\n",
            " -3.3899071e-03 -8.6264178e-04  5.0979150e-03 -4.8956848e-03\n",
            "  4.8678387e-03 -7.4305204e-03  2.1701052e-03 -3.8972690e-03\n",
            "  1.0790059e-03 -1.5773443e-03 -5.0332947e-03  3.3746427e-03\n",
            "  2.2483906e-03  6.9161149e-04 -1.2105416e-03  3.4072492e-03\n",
            "  2.0619731e-03 -2.3466579e-03  6.5719045e-04 -6.0539721e-03\n",
            " -2.6496979e-03  7.6816203e-03 -5.8219419e-04 -2.0552911e-04\n",
            "  9.4770818e-05  2.4708502e-03  6.2226842e-04  1.0545627e-02\n",
            "  5.2722008e-04], shape=(65,), dtype=float32)\n"
          ]
        }
      ]
    },
    {
      "cell_type": "code",
      "source": [
        "# If we want to determine the predicted character we need to sample the output distribution (pick a value based on probabillity)\n",
        "sampled_indices = tf.random.categorical(pred, num_samples=1)\n",
        "\n",
        "# now we can reshape that array and convert all the integers to numbers to see the actual characters\n",
        "sampled_indices = np.reshape(sampled_indices, (1, -1))[0]\n",
        "predicted_chars = int_to_text(sampled_indices)\n",
        "\n",
        "predicted_chars  # and this is what the model predicted for training sequence 1"
      ],
      "metadata": {
        "colab": {
          "base_uri": "https://localhost:8080/",
          "height": 35
        },
        "id": "7DaJIGP_O7wd",
        "outputId": "b58fb1e1-4288-4788-f982-7a1b21b0abd5"
      },
      "execution_count": 20,
      "outputs": [
        {
          "output_type": "execute_result",
          "data": {
            "application/vnd.google.colaboratory.intrinsic+json": {
              "type": "string"
            },
            "text/plain": [
              "\"HhiblRbC$tIsDaqs,AOlP'FFS-CbPpp!'L-.&!hOnl$,DuDP;PKh3XIFWmINWpPbgc:UwRXHHsc,tPntUsnRfJZs,$&QPkAMCL&C\""
            ]
          },
          "metadata": {},
          "execution_count": 20
        }
      ]
    },
    {
      "cell_type": "code",
      "source": [
        "def loss(labels, logits):\n",
        "  return tf.keras.losses.sparse_categorical_crossentropy(labels, logits, from_logits=True)"
      ],
      "metadata": {
        "id": "iJPV62OCPmkY"
      },
      "execution_count": 21,
      "outputs": []
    },
    {
      "cell_type": "code",
      "source": [
        "model.compile(optimizer='adam', loss=loss)"
      ],
      "metadata": {
        "id": "7jAHx1I1Pr7g"
      },
      "execution_count": 22,
      "outputs": []
    },
    {
      "cell_type": "code",
      "source": [
        "# Directory where the checkpoints will be saved\n",
        "checkpoint_dir = './training_checkpoints'\n",
        "# Name of the checkpoint files\n",
        "checkpoint_prefix = os.path.join(checkpoint_dir, \"ckpt_{epoch}\")\n",
        "\n",
        "checkpoint_callback=tf.keras.callbacks.ModelCheckpoint(\n",
        "    filepath=checkpoint_prefix,\n",
        "    save_weights_only=True)"
      ],
      "metadata": {
        "id": "0a7vDcJkPtrH"
      },
      "execution_count": 23,
      "outputs": []
    },
    {
      "cell_type": "code",
      "source": [
        "history = model.fit(data, epochs=50, callbacks=[checkpoint_callback])"
      ],
      "metadata": {
        "colab": {
          "base_uri": "https://localhost:8080/"
        },
        "id": "ILsYh05YPzeo",
        "outputId": "0bbfe99f-f045-431e-88f0-061ce74da9e0"
      },
      "execution_count": 24,
      "outputs": [
        {
          "output_type": "stream",
          "name": "stdout",
          "text": [
            "Epoch 1/50\n",
            "172/172 [==============================] - 31s 159ms/step - loss: 2.5540\n",
            "Epoch 2/50\n",
            "172/172 [==============================] - 30s 160ms/step - loss: 1.8594\n",
            "Epoch 3/50\n",
            "172/172 [==============================] - 30s 161ms/step - loss: 1.6176\n",
            "Epoch 4/50\n",
            "172/172 [==============================] - 30s 162ms/step - loss: 1.4883\n",
            "Epoch 5/50\n",
            "172/172 [==============================] - 30s 162ms/step - loss: 1.4120\n",
            "Epoch 6/50\n",
            "172/172 [==============================] - 30s 162ms/step - loss: 1.3542\n",
            "Epoch 7/50\n",
            "172/172 [==============================] - 30s 162ms/step - loss: 1.3096\n",
            "Epoch 8/50\n",
            "172/172 [==============================] - 30s 162ms/step - loss: 1.2704\n",
            "Epoch 9/50\n",
            "172/172 [==============================] - 30s 162ms/step - loss: 1.2341\n",
            "Epoch 10/50\n",
            "172/172 [==============================] - 30s 162ms/step - loss: 1.1968\n",
            "Epoch 11/50\n",
            "172/172 [==============================] - 30s 162ms/step - loss: 1.1603\n",
            "Epoch 12/50\n",
            "172/172 [==============================] - 30s 162ms/step - loss: 1.1239\n",
            "Epoch 13/50\n",
            "172/172 [==============================] - 30s 162ms/step - loss: 1.0833\n",
            "Epoch 14/50\n",
            "172/172 [==============================] - 30s 161ms/step - loss: 1.0437\n",
            "Epoch 15/50\n",
            "172/172 [==============================] - 30s 162ms/step - loss: 1.0018\n",
            "Epoch 16/50\n",
            "172/172 [==============================] - 30s 162ms/step - loss: 0.9609\n",
            "Epoch 17/50\n",
            "172/172 [==============================] - 30s 162ms/step - loss: 0.9186\n",
            "Epoch 18/50\n",
            "172/172 [==============================] - 30s 162ms/step - loss: 0.8775\n",
            "Epoch 19/50\n",
            "172/172 [==============================] - 30s 161ms/step - loss: 0.8392\n",
            "Epoch 20/50\n",
            "172/172 [==============================] - 30s 161ms/step - loss: 0.8020\n",
            "Epoch 21/50\n",
            "172/172 [==============================] - 30s 162ms/step - loss: 0.7660\n",
            "Epoch 22/50\n",
            "172/172 [==============================] - 30s 162ms/step - loss: 0.7337\n",
            "Epoch 23/50\n",
            "172/172 [==============================] - 30s 162ms/step - loss: 0.7034\n",
            "Epoch 24/50\n",
            "172/172 [==============================] - 30s 161ms/step - loss: 0.6758\n",
            "Epoch 25/50\n",
            "172/172 [==============================] - 29s 162ms/step - loss: 0.6494\n",
            "Epoch 26/50\n",
            "172/172 [==============================] - 30s 162ms/step - loss: 0.6291\n",
            "Epoch 27/50\n",
            "172/172 [==============================] - 29s 161ms/step - loss: 0.6059\n",
            "Epoch 28/50\n",
            "172/172 [==============================] - 30s 163ms/step - loss: 0.5891\n",
            "Epoch 29/50\n",
            "172/172 [==============================] - 29s 161ms/step - loss: 0.5725\n",
            "Epoch 30/50\n",
            "172/172 [==============================] - 30s 162ms/step - loss: 0.5560\n",
            "Epoch 31/50\n",
            "172/172 [==============================] - 30s 161ms/step - loss: 0.5430\n",
            "Epoch 32/50\n",
            "172/172 [==============================] - 30s 162ms/step - loss: 0.5303\n",
            "Epoch 33/50\n",
            "172/172 [==============================] - 29s 161ms/step - loss: 0.5201\n",
            "Epoch 34/50\n",
            "172/172 [==============================] - 30s 161ms/step - loss: 0.5089\n",
            "Epoch 35/50\n",
            "172/172 [==============================] - 30s 162ms/step - loss: 0.5008\n",
            "Epoch 36/50\n",
            "172/172 [==============================] - 30s 162ms/step - loss: 0.4933\n",
            "Epoch 37/50\n",
            "172/172 [==============================] - 30s 162ms/step - loss: 0.4853\n",
            "Epoch 38/50\n",
            "172/172 [==============================] - 30s 162ms/step - loss: 0.4796\n",
            "Epoch 39/50\n",
            "172/172 [==============================] - 30s 161ms/step - loss: 0.4713\n",
            "Epoch 40/50\n",
            "172/172 [==============================] - 30s 162ms/step - loss: 0.4666\n",
            "Epoch 41/50\n",
            "172/172 [==============================] - 29s 161ms/step - loss: 0.4615\n",
            "Epoch 42/50\n",
            "172/172 [==============================] - 30s 162ms/step - loss: 0.4551\n",
            "Epoch 43/50\n",
            "172/172 [==============================] - 30s 162ms/step - loss: 0.4527\n",
            "Epoch 44/50\n",
            "172/172 [==============================] - 30s 162ms/step - loss: 0.4459\n",
            "Epoch 45/50\n",
            "172/172 [==============================] - 30s 162ms/step - loss: 0.4412\n",
            "Epoch 46/50\n",
            "172/172 [==============================] - 30s 161ms/step - loss: 0.4410\n",
            "Epoch 47/50\n",
            "172/172 [==============================] - 30s 162ms/step - loss: 0.4378\n",
            "Epoch 48/50\n",
            "172/172 [==============================] - 30s 162ms/step - loss: 0.4364\n",
            "Epoch 49/50\n",
            "172/172 [==============================] - 30s 162ms/step - loss: 0.4327\n",
            "Epoch 50/50\n",
            "172/172 [==============================] - 30s 161ms/step - loss: 0.4299\n"
          ]
        }
      ]
    },
    {
      "cell_type": "code",
      "source": [
        "model = build_model(VOCAB_SIZE, EMBEDDING_DIM, RNN_UNITS, batch_size=1)"
      ],
      "metadata": {
        "id": "crBB8xQ7P3j7"
      },
      "execution_count": 25,
      "outputs": []
    },
    {
      "cell_type": "code",
      "source": [
        "model.load_weights(tf.train.latest_checkpoint(checkpoint_dir))\n",
        "model.build(tf.TensorShape([1, None]))"
      ],
      "metadata": {
        "id": "cQRjGps5VgSm"
      },
      "execution_count": 26,
      "outputs": []
    },
    {
      "cell_type": "code",
      "source": [
        "# I think this is if we're dealing with our file\n",
        "\n",
        "checkpoint_num = 1\n",
        "model.load_weights(tf.train.load_checkpoint(\"./training_checkpoints/ckpt_\" + str(checkpoint_num)))\n",
        "model.build(tf.TensorShape([1, None]))"
      ],
      "metadata": {
        "id": "YLRWc4P1Vi-j"
      },
      "execution_count": null,
      "outputs": []
    },
    {
      "cell_type": "code",
      "source": [
        "def generate_text(model, start_string):\n",
        "  # Evaluation step (generating text using the learned model)\n",
        "\n",
        "  # Number of characters to generate\n",
        "  num_generate = 800\n",
        "\n",
        "  # Converting our start string to numbers (vectorizing)\n",
        "  input_eval = [char2idx[s] for s in start_string]\n",
        "  input_eval = tf.expand_dims(input_eval, 0)\n",
        "\n",
        "  # Empty string to store our results\n",
        "  text_generated = []\n",
        "\n",
        "  # Low temperatures results in more predictable text.\n",
        "  # Higher temperatures results in more surprising text.\n",
        "  # Experiment to find the best setting.\n",
        "  temperature = 1.0\n",
        "\n",
        "  # Here batch size == 1\n",
        "  model.reset_states()\n",
        "  for i in range(num_generate):\n",
        "      predictions = model(input_eval)\n",
        "      # remove the batch dimension\n",
        "    \n",
        "      predictions = tf.squeeze(predictions, 0)\n",
        "\n",
        "      # using a categorical distribution to predict the character returned by the model\n",
        "      predictions = predictions / temperature\n",
        "      predicted_id = tf.random.categorical(predictions, num_samples=1)[-1,0].numpy()\n",
        "\n",
        "      # We pass the predicted character as the next input to the model\n",
        "      # along with the previous hidden state\n",
        "      input_eval = tf.expand_dims([predicted_id], 0)\n",
        "\n",
        "      text_generated.append(idx2char[predicted_id])\n",
        "\n",
        "  return (start_string + ''.join(text_generated))"
      ],
      "metadata": {
        "id": "nPyOXLOSVl3v"
      },
      "execution_count": 29,
      "outputs": []
    },
    {
      "cell_type": "code",
      "source": [
        "inp = input(\"Type a starting string: \")\n",
        "print(generate_text(model, inp))"
      ],
      "metadata": {
        "colab": {
          "base_uri": "https://localhost:8080/"
        },
        "id": "hXtDC4GFVyqs",
        "outputId": "c81ffc2c-6580-418e-f995-c4d20b5422f9"
      },
      "execution_count": 30,
      "outputs": [
        {
          "output_type": "stream",
          "name": "stdout",
          "text": [
            "Type a starting string: romeo\n",
            "romeous goddess\n",
            "In every case and join the king.\n",
            "Come, sir the fair without the which, to deceate,\n",
            "Say 'pardon' as the uttermors.\n",
            "\n",
            "KING LEWIS XI:\n",
            "Whatereon your honour.\n",
            "\n",
            "LUCIO:\n",
            "Wife, look you, sirrah! and myself\n",
            "To wink and brother did not hold on him.\n",
            "\n",
            "KING LEWIS XI:\n",
            "How does your little hand?\n",
            "\n",
            "AUTOLYCUS:\n",
            "O, good sir, tenderly, as first we were as it is fulfily whilst:\n",
            "As if he were well; where no hands your house.\n",
            "\n",
            "LUCENTIO:\n",
            "I'll geld thee hence.\n",
            "\n",
            "ANGELO:\n",
            "Well, I beseech you, let's see when cast matters shall ours.\n",
            "\n",
            "LADY ANNE:\n",
            "What is't your honour for the deed.\n",
            "\n",
            "Second Murderer:\n",
            "Whom so stoop and enclosses are in arms.\n",
            "\n",
            "KING RICHARD II:\n",
            "Down, on the north, e play'd in eate, or both?\n",
            "\n",
            "KING HENRY VI:\n",
            "Where did you dwell when?\n",
            "\n",
            "ESCALUS:\n",
            "So hast thou there in Bohemia and your father's stand,\n",
            "As \n"
          ]
        }
      ]
    },
    {
      "cell_type": "code",
      "source": [
        ""
      ],
      "metadata": {
        "id": "fHJOkgO3gh8B"
      },
      "execution_count": null,
      "outputs": []
    }
  ]
}