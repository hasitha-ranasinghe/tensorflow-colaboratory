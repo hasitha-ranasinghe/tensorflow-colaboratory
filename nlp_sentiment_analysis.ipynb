{
  "nbformat": 4,
  "nbformat_minor": 0,
  "metadata": {
    "colab": {
      "name": "nlp-sentiment-analysis.ipynb",
      "provenance": [],
      "authorship_tag": "ABX9TyMTN+OHaFVvIfaGq+lPsVTE",
      "include_colab_link": true
    },
    "kernelspec": {
      "name": "python3",
      "display_name": "Python 3"
    },
    "language_info": {
      "name": "python"
    },
    "accelerator": "GPU"
  },
  "cells": [
    {
      "cell_type": "markdown",
      "metadata": {
        "id": "view-in-github",
        "colab_type": "text"
      },
      "source": [
        "<a href=\"https://colab.research.google.com/github/hasitha-ranasinghe/tensorflow-colaboratory/blob/main/nlp_sentiment_analysis.ipynb\" target=\"_parent\"><img src=\"https://colab.research.google.com/assets/colab-badge.svg\" alt=\"Open In Colab\"/></a>"
      ]
    },
    {
      "cell_type": "markdown",
      "source": [
        "#Sentiment Analysis using RNN\n",
        "##IMDB Dataset\n",
        "\n",
        "word embedding layer as the first layer in our model and add a LSTM layer afterwards\n",
        "\n",
        "\n"
      ],
      "metadata": {
        "id": "PgSsYwzIIlML"
      }
    },
    {
      "cell_type": "code",
      "source": [
        "from keras.datasets import imdb\n",
        "from keras.preprocessing import sequence\n",
        "import keras\n",
        "import tensorflow as tf\n",
        "import os\n",
        "import numpy as np\n",
        "\n",
        "VOCAB_SIZE = 88584\n",
        "\n",
        "MAXLEN = 250\n",
        "BATCH_SIZE = 64\n",
        "\n",
        "(train_data, train_labels), (test_data, test_labels) = imdb.load_data(num_words = VOCAB_SIZE)"
      ],
      "metadata": {
        "colab": {
          "base_uri": "https://localhost:8080/"
        },
        "id": "krkATX1yyRLZ",
        "outputId": "995d175b-5504-4c45-f7eb-473cb1aa2477"
      },
      "execution_count": 5,
      "outputs": [
        {
          "output_type": "stream",
          "name": "stdout",
          "text": [
            "Downloading data from https://storage.googleapis.com/tensorflow/tf-keras-datasets/imdb.npz\n",
            "17465344/17464789 [==============================] - 0s 0us/step\n",
            "17473536/17464789 [==============================] - 0s 0us/step\n"
          ]
        }
      ]
    },
    {
      "cell_type": "code",
      "source": [
        "train_data = sequence.pad_sequences(train_data, MAXLEN)\n",
        "test_data = sequence.pad_sequences(test_data, MAXLEN)"
      ],
      "metadata": {
        "id": "jvpNfIh6yw8n"
      },
      "execution_count": 6,
      "outputs": []
    },
    {
      "cell_type": "code",
      "source": [
        "train_data[0]"
      ],
      "metadata": {
        "colab": {
          "base_uri": "https://localhost:8080/"
        },
        "id": "vlb9E5pGym_r",
        "outputId": "ca108ffd-020a-4305-fc6f-bbc32c7653ed"
      },
      "execution_count": 7,
      "outputs": [
        {
          "output_type": "execute_result",
          "data": {
            "text/plain": [
              "array([    0,     0,     0,     0,     0,     0,     0,     0,     0,\n",
              "           0,     0,     0,     0,     0,     0,     0,     0,     0,\n",
              "           0,     0,     0,     0,     0,     0,     0,     0,     0,\n",
              "           0,     0,     0,     0,     0,     1,    14,    22,    16,\n",
              "          43,   530,   973,  1622,  1385,    65,   458,  4468,    66,\n",
              "        3941,     4,   173,    36,   256,     5,    25,   100,    43,\n",
              "         838,   112,    50,   670, 22665,     9,    35,   480,   284,\n",
              "           5,   150,     4,   172,   112,   167, 21631,   336,   385,\n",
              "          39,     4,   172,  4536,  1111,    17,   546,    38,    13,\n",
              "         447,     4,   192,    50,    16,     6,   147,  2025,    19,\n",
              "          14,    22,     4,  1920,  4613,   469,     4,    22,    71,\n",
              "          87,    12,    16,    43,   530,    38,    76,    15,    13,\n",
              "        1247,     4,    22,    17,   515,    17,    12,    16,   626,\n",
              "          18, 19193,     5,    62,   386,    12,     8,   316,     8,\n",
              "         106,     5,     4,  2223,  5244,    16,   480,    66,  3785,\n",
              "          33,     4,   130,    12,    16,    38,   619,     5,    25,\n",
              "         124,    51,    36,   135,    48,    25,  1415,    33,     6,\n",
              "          22,    12,   215,    28,    77,    52,     5,    14,   407,\n",
              "          16,    82, 10311,     8,     4,   107,   117,  5952,    15,\n",
              "         256,     4, 31050,     7,  3766,     5,   723,    36,    71,\n",
              "          43,   530,   476,    26,   400,   317,    46,     7,     4,\n",
              "       12118,  1029,    13,   104,    88,     4,   381,    15,   297,\n",
              "          98,    32,  2071,    56,    26,   141,     6,   194,  7486,\n",
              "          18,     4,   226,    22,    21,   134,   476,    26,   480,\n",
              "           5,   144,    30,  5535,    18,    51,    36,    28,   224,\n",
              "          92,    25,   104,     4,   226,    65,    16,    38,  1334,\n",
              "          88,    12,    16,   283,     5,    16,  4472,   113,   103,\n",
              "          32,    15,    16,  5345,    19,   178,    32], dtype=int32)"
            ]
          },
          "metadata": {},
          "execution_count": 7
        }
      ]
    },
    {
      "cell_type": "code",
      "source": [
        "model = tf.keras.Sequential([\n",
        "    tf.keras.layers.Embedding(VOCAB_SIZE, 32),\n",
        "    tf.keras.layers.LSTM(32),\n",
        "    tf.keras.layers.Dense(1, activation=\"sigmoid\")\n",
        "])"
      ],
      "metadata": {
        "id": "GQaen4tAzCxG"
      },
      "execution_count": 8,
      "outputs": []
    },
    {
      "cell_type": "code",
      "source": [
        "model.summary()"
      ],
      "metadata": {
        "colab": {
          "base_uri": "https://localhost:8080/"
        },
        "id": "wugbnreizUqZ",
        "outputId": "7524cb28-2f4b-4709-e530-5d7aa019b277"
      },
      "execution_count": 9,
      "outputs": [
        {
          "output_type": "stream",
          "name": "stdout",
          "text": [
            "Model: \"sequential\"\n",
            "_________________________________________________________________\n",
            " Layer (type)                Output Shape              Param #   \n",
            "=================================================================\n",
            " embedding (Embedding)       (None, None, 32)          2834688   \n",
            "                                                                 \n",
            " lstm (LSTM)                 (None, 32)                8320      \n",
            "                                                                 \n",
            " dense (Dense)               (None, 1)                 33        \n",
            "                                                                 \n",
            "=================================================================\n",
            "Total params: 2,843,041\n",
            "Trainable params: 2,843,041\n",
            "Non-trainable params: 0\n",
            "_________________________________________________________________\n"
          ]
        }
      ]
    },
    {
      "cell_type": "code",
      "source": [
        "model.compile(loss=\"binary_crossentropy\",optimizer=\"rmsprop\",metrics=['acc'])\n",
        "\n",
        "history = model.fit(train_data, train_labels, epochs=10, validation_split=0.2)"
      ],
      "metadata": {
        "colab": {
          "base_uri": "https://localhost:8080/"
        },
        "id": "LjlB5K27zYDX",
        "outputId": "135bc0d0-7754-4f63-e361-508a8df8ba4c"
      },
      "execution_count": 10,
      "outputs": [
        {
          "output_type": "stream",
          "name": "stdout",
          "text": [
            "Epoch 1/10\n",
            "625/625 [==============================] - 13s 11ms/step - loss: 0.4230 - acc: 0.8054 - val_loss: 0.3285 - val_acc: 0.8600\n",
            "Epoch 2/10\n",
            "625/625 [==============================] - 7s 11ms/step - loss: 0.2386 - acc: 0.9097 - val_loss: 0.2803 - val_acc: 0.8856\n",
            "Epoch 3/10\n",
            "625/625 [==============================] - 7s 11ms/step - loss: 0.1815 - acc: 0.9339 - val_loss: 0.2786 - val_acc: 0.8842\n",
            "Epoch 4/10\n",
            "625/625 [==============================] - 7s 10ms/step - loss: 0.1478 - acc: 0.9484 - val_loss: 0.2800 - val_acc: 0.8916\n",
            "Epoch 5/10\n",
            "625/625 [==============================] - 7s 11ms/step - loss: 0.1280 - acc: 0.9543 - val_loss: 0.3017 - val_acc: 0.8916\n",
            "Epoch 6/10\n",
            "625/625 [==============================] - 7s 10ms/step - loss: 0.1109 - acc: 0.9621 - val_loss: 0.3555 - val_acc: 0.8830\n",
            "Epoch 7/10\n",
            "625/625 [==============================] - 7s 11ms/step - loss: 0.0988 - acc: 0.9679 - val_loss: 0.3173 - val_acc: 0.8898\n",
            "Epoch 8/10\n",
            "625/625 [==============================] - 7s 11ms/step - loss: 0.0859 - acc: 0.9725 - val_loss: 0.4259 - val_acc: 0.8786\n",
            "Epoch 9/10\n",
            "625/625 [==============================] - 7s 11ms/step - loss: 0.0785 - acc: 0.9744 - val_loss: 0.3781 - val_acc: 0.8890\n",
            "Epoch 10/10\n",
            "625/625 [==============================] - 7s 11ms/step - loss: 0.0684 - acc: 0.9780 - val_loss: 0.4248 - val_acc: 0.8848\n"
          ]
        }
      ]
    },
    {
      "cell_type": "code",
      "source": [
        "results = model.evaluate(test_data, test_labels)\n",
        "print(results)"
      ],
      "metadata": {
        "colab": {
          "base_uri": "https://localhost:8080/"
        },
        "id": "BaqwAxn_2Jjk",
        "outputId": "5d06f7d4-fb77-46b5-9b11-37def2b08bff"
      },
      "execution_count": 11,
      "outputs": [
        {
          "output_type": "stream",
          "name": "stdout",
          "text": [
            "782/782 [==============================] - 4s 5ms/step - loss: 0.5267 - acc: 0.8547\n",
            "[0.5266672968864441, 0.8547199964523315]\n"
          ]
        }
      ]
    },
    {
      "cell_type": "code",
      "source": [
        "word_index = imdb.get_word_index()\n",
        "\n",
        "def encode_text(text):\n",
        "  tokens = keras.preprocessing.text.text_to_word_sequence(text)\n",
        "  tokens = [word_index[word] if word in word_index else 0 for word in tokens]\n",
        "  return sequence.pad_sequences([tokens], MAXLEN)[0]\n",
        "\n",
        "text = \"that movie was just amazing, so amazing\"\n",
        "encoded = encode_text(text)\n",
        "print(encoded)\n"
      ],
      "metadata": {
        "colab": {
          "base_uri": "https://localhost:8080/"
        },
        "id": "l_HsqB2A2KER",
        "outputId": "a20052ac-28fb-40d6-9bd4-100efe28f0c8"
      },
      "execution_count": 12,
      "outputs": [
        {
          "output_type": "stream",
          "name": "stdout",
          "text": [
            "Downloading data from https://storage.googleapis.com/tensorflow/tf-keras-datasets/imdb_word_index.json\n",
            "1646592/1641221 [==============================] - 0s 0us/step\n",
            "1654784/1641221 [==============================] - 0s 0us/step\n",
            "[  0   0   0   0   0   0   0   0   0   0   0   0   0   0   0   0   0   0\n",
            "   0   0   0   0   0   0   0   0   0   0   0   0   0   0   0   0   0   0\n",
            "   0   0   0   0   0   0   0   0   0   0   0   0   0   0   0   0   0   0\n",
            "   0   0   0   0   0   0   0   0   0   0   0   0   0   0   0   0   0   0\n",
            "   0   0   0   0   0   0   0   0   0   0   0   0   0   0   0   0   0   0\n",
            "   0   0   0   0   0   0   0   0   0   0   0   0   0   0   0   0   0   0\n",
            "   0   0   0   0   0   0   0   0   0   0   0   0   0   0   0   0   0   0\n",
            "   0   0   0   0   0   0   0   0   0   0   0   0   0   0   0   0   0   0\n",
            "   0   0   0   0   0   0   0   0   0   0   0   0   0   0   0   0   0   0\n",
            "   0   0   0   0   0   0   0   0   0   0   0   0   0   0   0   0   0   0\n",
            "   0   0   0   0   0   0   0   0   0   0   0   0   0   0   0   0   0   0\n",
            "   0   0   0   0   0   0   0   0   0   0   0   0   0   0   0   0   0   0\n",
            "   0   0   0   0   0   0   0   0   0   0   0   0   0   0   0   0   0   0\n",
            "   0   0   0   0   0   0   0   0   0  12  17  13  40 477  35 477]\n"
          ]
        }
      ]
    },
    {
      "cell_type": "code",
      "source": [
        "# while were at it lets make a decode function\n",
        "\n",
        "reverse_word_index = {value: key for (key, value) in word_index.items()}\n",
        "\n",
        "def decode_integers(integers):\n",
        "    PAD = 0\n",
        "    text = \"\"\n",
        "    for num in integers:\n",
        "      if num != PAD:\n",
        "        text += reverse_word_index[num] + \" \"\n",
        "\n",
        "    return text[:-1]\n",
        "  \n",
        "print(decode_integers(encoded))"
      ],
      "metadata": {
        "colab": {
          "base_uri": "https://localhost:8080/"
        },
        "id": "6P9uP6Ve2Rli",
        "outputId": "7158fcf3-1257-44a4-c1f0-e2907c982e0a"
      },
      "execution_count": 13,
      "outputs": [
        {
          "output_type": "stream",
          "name": "stdout",
          "text": [
            "that movie was just amazing so amazing\n"
          ]
        }
      ]
    },
    {
      "cell_type": "code",
      "source": [
        "# now time to make a prediction\n",
        "\n",
        "def predict(text):\n",
        "  encoded_text = encode_text(text)\n",
        "  pred = np.zeros((1,250))\n",
        "  pred[0] = encoded_text\n",
        "  result = model.predict(pred) \n",
        "  print(result[0])\n",
        "\n",
        "positive_review = \"That movie was! really loved it and would watch it again because it was amazingly great\"\n",
        "predict(positive_review)\n",
        "\n",
        "negative_review = \"that movie sucked. I hated it and wouldn't watch it again. Was one of the worst things I've ever watched\"\n",
        "predict(negative_review)\n",
        " "
      ],
      "metadata": {
        "colab": {
          "base_uri": "https://localhost:8080/"
        },
        "id": "YgMQ9B8y2TNO",
        "outputId": "12342d53-d50c-40be-abce-2afa5df6d003"
      },
      "execution_count": 19,
      "outputs": [
        {
          "output_type": "stream",
          "name": "stdout",
          "text": [
            "[0.93695515]\n",
            "[0.3468799]\n"
          ]
        }
      ]
    },
    {
      "cell_type": "code",
      "source": [
        ""
      ],
      "metadata": {
        "id": "ocCcQwtbGv9C"
      },
      "execution_count": null,
      "outputs": []
    }
  ]
}